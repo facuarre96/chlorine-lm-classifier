{
 "cells": [
  {
   "cell_type": "code",
   "execution_count": 2,
   "metadata": {},
   "outputs": [],
   "source": [
    "import numpy as np"
   ]
  },
  {
   "cell_type": "code",
   "execution_count": 3,
   "metadata": {},
   "outputs": [
    {
     "name": "stdout",
     "output_type": "stream",
     "text": [
      "The number of empty records in the column \"abstract\" for CHE file is: 376 out of 9788\n",
      "The number of empty records in the column \"abstract\" for CHS file is: 1036 out of 10153\n"
     ]
    }
   ],
   "source": [
    "import pandas as pd\n",
    "\n",
    "# Load Excel file into a DataFrame\n",
    "sheet_name = 'Sheet1'  # Replace with the actual sheet name if needed\n",
    "CHS = pd.read_excel('CHS_files.xlsx', sheet_name=sheet_name)\n",
    "CHE = pd.read_excel('CHE_files.xlsx', sheet_name=sheet_name)\n",
    "# Specify the column to check for empty records\n",
    "column_to_check = 'abstract'  # Replace with the actual column name\n",
    "\n",
    "# Check how many records are empty in the specified column\n",
    "empty_records_count_che = CHE[column_to_check].isna().sum()\n",
    "empty_records_count_chs = CHS[column_to_check].isna().sum()\n",
    "\n",
    "print(f'The number of empty records in the column \"{column_to_check}\" for CHE file is: {empty_records_count_che} out of {CHE.Label.count()}')\n",
    "print(f'The number of empty records in the column \"{column_to_check}\" for CHS file is: {empty_records_count_chs} out of {CHS.Label.count()}')\n"
   ]
  },
  {
   "cell_type": "code",
   "execution_count": 4,
   "metadata": {},
   "outputs": [],
   "source": [
    "non_abstract_CHS = CHS[CHS.abstract.isna()].reset_index()"
   ]
  },
  {
   "cell_type": "code",
   "execution_count": 5,
   "metadata": {},
   "outputs": [],
   "source": [
    "without_url = non_abstract_CHS[non_abstract_CHS.url.isna()].shape[0]"
   ]
  },
  {
   "cell_type": "code",
   "execution_count": 6,
   "metadata": {},
   "outputs": [],
   "source": [
    "data_summary = pd.DataFrame(columns=['CHE', 'CHS'],index=['Relevant','No Relevant', 'Total'])\n",
    "data_summary.loc['Relevant','CHE'] = CHE[CHE.Label == 'Relevant'].shape[0]\n",
    "data_summary.loc['No Relevant','CHE'] = CHE[CHE.Label != 'Relevant'].shape[0]\n",
    "data_summary.loc['Total','CHE'] = CHE.shape[0]\n",
    "data_summary.loc['Relevant','CHS'] = CHS[CHS.Label == 'Relevant'].shape[0]\n",
    "data_summary.loc['No Relevant','CHS'] = CHS[CHS.Label != 'Relevant'].shape[0]\n",
    "data_summary.loc['Total','CHS'] = CHS.shape[0]"
   ]
  },
  {
   "cell_type": "code",
   "execution_count": 7,
   "metadata": {},
   "outputs": [],
   "source": [
    "non_abs_data_summary = pd.DataFrame(columns=['CHE_nabs', 'CHS_nabs'],index=['Relevant','No Relevant', 'Total'])\n",
    "non_abs_data_summary.loc['Relevant','CHE_nabs'] = CHE[(CHE.Label == 'Relevant') & (CHE.abstract.isna())].shape[0]\n",
    "non_abs_data_summary.loc['No Relevant','CHE_nabs'] = CHE[(CHE.Label != 'Relevant') & (CHE.abstract.isna())].shape[0]\n",
    "non_abs_data_summary.loc['Total','CHE_nabs'] = CHE[CHE.abstract.isna()].shape[0]\n",
    "non_abs_data_summary.loc['Relevant','CHS_nabs'] = CHS[(CHS.Label == 'Relevant') & (CHS.abstract.isna())].shape[0]\n",
    "non_abs_data_summary.loc['No Relevant','CHS_nabs'] = CHS[(CHS.Label != 'Relevant') & (CHS.abstract.isna())].shape[0]\n",
    "non_abs_data_summary.loc['Total','CHS_nabs'] = CHS[CHS.abstract.isna()].shape[0]"
   ]
  },
  {
   "cell_type": "code",
   "execution_count": 8,
   "metadata": {},
   "outputs": [],
   "source": [
    "overview = data_summary.join(non_abs_data_summary)\n",
    "overview[\"CHE_nabs%\"] = (overview.CHE_nabs / overview.CHE)\n",
    "overview[\"CHE_nabs%\"] = overview[\"CHE_nabs%\"] * 100\n",
    "overview[\"CHE_nabs%\"] = overview[\"CHE_nabs%\"].round(2)\n",
    "overview[\"CHE_nabs%\"] = overview[\"CHE_nabs%\"].apply(lambda x: f\"{x:.2f}%\")\n",
    "overview[\"CHS_nabs%\"] = (overview.CHS_nabs / overview.CHS)\n",
    "overview[\"CHS_nabs%\"] = overview[\"CHS_nabs%\"] * 100\n",
    "overview[\"CHS_nabs%\"] = overview[\"CHS_nabs%\"].round(2)\n",
    "overview[\"CHS_nabs%\"] = overview[\"CHS_nabs%\"].apply(lambda x: f\"{x:.2f}%\")\n",
    "overview.loc[\"Relevant\",\"CHE_nourl_noabs\"] = CHE[(CHE.abstract.isna()) & (CHE.url.isna()) & (CHE.Label==\"Relevant\")].shape[0]\n",
    "overview.loc[\"No Relevant\",\"CHE_nourl_noabs\"] = CHE[(CHE.abstract.isna()) & (CHE.url.isna()) & (CHE.Label!=\"Relevant\")].shape[0]\n",
    "overview.loc[\"Total\",\"CHE_nourl_noabs\"] = CHE[(CHE.abstract.isna()) & (CHE.url.isna())].shape[0]\n",
    "overview.loc[\"Relevant\",\"CHS_nourl_noabs\"] = CHS[(CHS.abstract.isna()) & (CHS.url.isna()) & (CHS.Label==\"Relevant\")].shape[0]\n",
    "overview.loc[\"No Relevant\",\"CHS_nourl_noabs\"] = CHS[(CHS.abstract.isna()) & (CHS.url.isna()) & (CHS.Label!=\"Relevant\")].shape[0]\n",
    "overview.loc[\"Total\",\"CHS_nourl_noabs\"] = CHS[(CHS.abstract.isna()) & (CHS.url.isna())].shape[0]\n"
   ]
  },
  {
   "cell_type": "code",
   "execution_count": 9,
   "metadata": {},
   "outputs": [
    {
     "data": {
      "text/plain": [
       "Index(['CHE', 'CHS', 'CHE_nabs', 'CHS_nabs', 'CHE_nabs%', 'CHS_nabs%',\n",
       "       'CHE_nourl_noabs', 'CHS_nourl_noabs'],\n",
       "      dtype='object')"
      ]
     },
     "execution_count": 9,
     "metadata": {},
     "output_type": "execute_result"
    }
   ],
   "source": [
    "overview.columns"
   ]
  },
  {
   "cell_type": "code",
   "execution_count": 10,
   "metadata": {},
   "outputs": [],
   "source": [
    "# Manually specify the desired column order\n",
    "new_order = ['CHE', 'CHE_nabs', 'CHE_nabs%','CHE_nourl_noabs', 'CHS', 'CHS_nabs', 'CHS_nabs%', 'CHS_nourl_noabs' ]\n",
    "\n",
    "# Reindex the DataFrame with the new column order\n",
    "overview = overview[new_order]\n"
   ]
  },
  {
   "cell_type": "code",
   "execution_count": 11,
   "metadata": {},
   "outputs": [
    {
     "data": {
      "text/html": [
       "<div>\n",
       "<style scoped>\n",
       "    .dataframe tbody tr th:only-of-type {\n",
       "        vertical-align: middle;\n",
       "    }\n",
       "\n",
       "    .dataframe tbody tr th {\n",
       "        vertical-align: top;\n",
       "    }\n",
       "\n",
       "    .dataframe thead th {\n",
       "        text-align: right;\n",
       "    }\n",
       "</style>\n",
       "<table border=\"1\" class=\"dataframe\">\n",
       "  <thead>\n",
       "    <tr style=\"text-align: right;\">\n",
       "      <th></th>\n",
       "      <th>CHE</th>\n",
       "      <th>CHE_nabs</th>\n",
       "      <th>CHE_nabs%</th>\n",
       "      <th>CHE_nourl_noabs</th>\n",
       "      <th>CHS</th>\n",
       "      <th>CHS_nabs</th>\n",
       "      <th>CHS_nabs%</th>\n",
       "      <th>CHS_nourl_noabs</th>\n",
       "    </tr>\n",
       "  </thead>\n",
       "  <tbody>\n",
       "    <tr>\n",
       "      <th>Relevant</th>\n",
       "      <td>2663</td>\n",
       "      <td>64</td>\n",
       "      <td>2.40%</td>\n",
       "      <td>46.0</td>\n",
       "      <td>761</td>\n",
       "      <td>59</td>\n",
       "      <td>7.75%</td>\n",
       "      <td>34.0</td>\n",
       "    </tr>\n",
       "    <tr>\n",
       "      <th>No Relevant</th>\n",
       "      <td>7125</td>\n",
       "      <td>312</td>\n",
       "      <td>4.38%</td>\n",
       "      <td>247.0</td>\n",
       "      <td>9392</td>\n",
       "      <td>977</td>\n",
       "      <td>10.40%</td>\n",
       "      <td>539.0</td>\n",
       "    </tr>\n",
       "    <tr>\n",
       "      <th>Total</th>\n",
       "      <td>9788</td>\n",
       "      <td>376</td>\n",
       "      <td>3.84%</td>\n",
       "      <td>293.0</td>\n",
       "      <td>10153</td>\n",
       "      <td>1036</td>\n",
       "      <td>10.20%</td>\n",
       "      <td>573.0</td>\n",
       "    </tr>\n",
       "  </tbody>\n",
       "</table>\n",
       "</div>"
      ],
      "text/plain": [
       "              CHE CHE_nabs CHE_nabs%  CHE_nourl_noabs    CHS CHS_nabs  \\\n",
       "Relevant     2663       64     2.40%             46.0    761       59   \n",
       "No Relevant  7125      312     4.38%            247.0   9392      977   \n",
       "Total        9788      376     3.84%            293.0  10153     1036   \n",
       "\n",
       "            CHS_nabs%  CHS_nourl_noabs  \n",
       "Relevant        7.75%             34.0  \n",
       "No Relevant    10.40%            539.0  \n",
       "Total          10.20%            573.0  "
      ]
     },
     "execution_count": 11,
     "metadata": {},
     "output_type": "execute_result"
    }
   ],
   "source": [
    "overview"
   ]
  },
  {
   "cell_type": "code",
   "execution_count": 12,
   "metadata": {},
   "outputs": [
    {
     "data": {
      "text/plain": [
       "649"
      ]
     },
     "execution_count": 12,
     "metadata": {},
     "output_type": "execute_result"
    }
   ],
   "source": [
    "# The allowed length for the model is up to 1024 words, so just checking one abstract\n",
    "len(CHE.loc[0, 'abstract'])"
   ]
  },
  {
   "cell_type": "code",
   "execution_count": 13,
   "metadata": {},
   "outputs": [
    {
     "name": "stdout",
     "output_type": "stream",
     "text": [
      "The longest abstract is: 17500\n"
     ]
    }
   ],
   "source": [
    "# Calculate the length of each abstract\n",
    "CHE['abstract_length'] = CHE['abstract'].apply(lambda x: len(x) if type(x) is not float else 0)\n",
    "\n",
    "# Find the index of the longest abstract\n",
    "longest_abstract_index = CHE['abstract_length'].idxmax()\n",
    "\n",
    "# Retrieve the longest abstract\n",
    "longest_abstract = CHE.loc[longest_abstract_index, 'abstract_length']\n",
    "\n",
    "print(\"The longest abstract is:\", longest_abstract)"
   ]
  },
  {
   "cell_type": "code",
   "execution_count": 22,
   "metadata": {},
   "outputs": [
    {
     "name": "stdout",
     "output_type": "stream",
     "text": [
      "The longest abstract is: Toxicology of disinfectants and disinfectant by-products. Disinfectants. Chlorine gas, chloramine and chlorine dioxide are strong respiratory irritants. Sodium hypochlorite (NaOC1) is also used as bleach and is frequently involved in human poisoning. These exposures, however, are not relevant to exposures in drinking-water. There have been relatively few evaluations of the toxic effects of these disinfectants in drinking-water in experimental animals or humans. Evidence from these animal and human studies suggests that chlorine, hypochlorite solutions, chloramine and chlorine dioxide themselves probably do not contribute to the development of cancer or any toxic effects. Attention has focused on the wide variety of by-products that result from reactions of chlorine and other disinfectants with NOM, which is found in virtually all water sources. Trihalomethanes. THMs induce cytotoxicity in the liver and kidneys of rodents exposed to doses of about 0.5 mmol/kg of body weight. The vehicle of administration significantly affects the toxicity of the THMs. The THMs have little reproductive and developmental toxicity, but BDCM has been shown to reduce sperm motility in rats consuming 39 mg/kg of body weight per day in drinking-water. Like chloroform, BDCM, when administered in corn oil, induces cancer in the liver and kidneys after lifetime exposures to high doses. Unlike chloroform and DBCM, BDCM and bromoform induce tumours of the large intestine in rats exposed by corn oil gavage. BDCM induces tumours at all three target sites and at lower doses than the other THMs. Since the publication of the 1994 WHO Environmental Health Criteria monograph on chloroform, additional studies have added to the weight of evidence indicating that chloroform is not a direct DNA-reactive mutagenic carcinogen. In contrast, the brominated THMs appear to be weak mutagens, probably as a result of GSH conjugation. Haloacetic acids. The HAAs have diverse toxicological effects in laboratory animals. Those HAAs of most concern have carcinogenic, reproductive and developmental effects. Neurotoxic effects are significant at the high doses of DCA that are used therapeutically. Carcinogenic effects appear to be limited to the liver and to high doses. The bulls of the evidence indicates that the tumorigenic effects of DCA and TCA depend on modifying processes of cell division and cell death rather than their very weak mutagenic activities. Oxidative stress is also a feature of the toxicity of the brominated analogues within this class. Both DCA and TCA cause cardiac malformations in rats at high doses. Haloaldehydes and haloketones. Chloral hydrate induces hepatic necrosis in rats at doses equal to or greater than 120 mg/kg of body weight per day. Its depressant effect on the central nervous system in humans is probably related to its metabolite trichloroethanol. Limited toxicity data are available for the other halogenated aldehydes and ketones. Chloroacetaldehyde exposure causes haematological effects in rats. Exposure of mice to 1,1-dichloropropanone (1,1-DCPN), but not 1,3-dichloropropanone (1,3-DCPN), results in liver toxicity. Chloral hydrate was negative in most but not all bacterial tests for point mutations and in in vivo studies on chromosomal damage. However, it has been shown that chloral hydrate may induce structural chromosomal aberrations in vitro and in vivo. Chloral hydrate has been reported to cause hepatic tumours in mice. It is not clear if it is the parent compound or its metabolites that are involved in the carcinogenic effect. The two chloral, hydrate metabolites, TCA and DCA, have induced hepatic tumours in mice. Some halogenated aldehydes and ketones are potent inducers of mutations in bacteria. Clastogenic effects have been reported for chlorinated propanones. Liver tumours were noted in a lifetime drinking-water study with chloroacetaldehyde. Other halogenated aldehydes, e.g., 2-chloropropenal, have been identified as tumour initiators in the skin of mice. The haloketones have not been tested for carcinogenicity in drinking-water. However, 1,3-DCPN acted as a tumour initiator in a skin carcinogenicity study in mice. Haloacetonitriles. Testing of these compounds for toxicological effects has been limited to date. Some of the groups are mutagenic, but these effects do not relate well to the activity of the chemicals as tumour initiators in the skin. There are only very limited studies on the carcinogenicity of this class of substances. Early indications of developmental toxicity of members of this class appear to be largely attributable to the vehicle used in treatment. Halogenated hydroxyfuranone derivatives. Based on experimental studies, the critical effects of MX appear to be its mutagenicity and carcinogenicity. Several in vitro studies have revealed that MX is mutagenic in bacterial and mammalian test systems. MX caused chromosomal aberrations and induced DNA damage in isolated liver and testicular cells and sister chromatid exchanges in peripheral lymphocytes from rats exposed in vivo. An overall evaluation of the mutagenicity data shows that MX is mutagenic in vitro and in vivo. A carcinogenicity study in rats showed increased tumour frequencies in several organs. Chlorite. The toxic action of chlorite is primarily in the form of oxidative damage to red blood cells at doses as low as 10 mg/kg of body weight. There are indications of mild neurobehavioural effects in rat pups at 5.6 mg/kg of body weight per day. There are conflicting data on the genotoxicity of chlorite. Chlorite does not increase tumours in laboratory animals in chronic exposure studies. Chlorate. The toxicity of chlorate is similar to that of chlorite, but chlorate is less effective at inducing oxidative damage. It does not appear to be teratogenic or genotoxic in vivo. There are no data from long-term carcinogenicity studies. Bromate. Bromate causes renal tubular damage in rats at high doses. It induces tumours of the kidney, peritoneum and thyroid in rats at doses of 6 mg/kg of body weight and above in chronic studies. Hamsters are less sensitive, and mice are considerably less sensitive. Bromate is also genotoxic in vivo in rats at high doses. Carcinogenicity appears to be secondary to oxidative stress in the cell. Epidemiological studies. Cardiovascular disease. Epidemiological studies have not identified an increased risk of cardiovascular disease associated with chlorinated or chloraminated drinking-water. Studies of other disinfectants have not been conducted. Cancer. The epidemiological evidence is insufficient to support a causal relationship between bladder cancer and long-term exposure to chlorinated drinking-water, THMs, chloroform or other THM species. The epidemiological evidence is inconclusive and equivocal for an association between colon cancer and long-term exposure to chlorinated drinking-water, THMs, chloroform or other THM species. The information is insufficient to allow an evaluation of the observed risks for rectal cancer and risks for other cancers observed in single analytical studies. Various types of epidemiological studies have attempted to assess the cancer risks that may be associated with exposure to chlorinated drinking-water. Chloraminated drinking-water was considered in two studies. Several studies have attempted to estimate exposures to total THMs or chloroform and the other THM species, but the studies did not consider exposures to other DBPs or other water contaminants, which may differ for surface water and groundwater sources. One study considered the mutagenicity of drinking-water as measured by the Salmonella typhimurium assay. Assessments of possible cancer risks that may be associated with drinking-water disinfected with ozone or chlorine dioxide have not been performed. Ecological and death certificate-based case-control studies have provided hypotheses for further evaluation by analytical studies that consider an individual's exposure to drinking-water and possible confounding factors. Analytical studies have reported weak to moderate increased relative risks of bladder, colon, rectal, pancreatic, breast, brain or lung cancer associated with long-term exposure to chlorinated drinking-water. Single studies reported associations for pancreatic, breast or brain cancer; however, the evaluation of a possible causal relationship for epidemiological associations requires evidence from more than a single study. In one study, a small increased relative risk of lung cancer was associated with the use of surface water sources, but the magnitude of risk was too small to rule out residual confounding. A case-control study reported a moderately large association between rectal cancer and long-term exposure to chlorinated drinking-water or cumulative THM exposure, but cohort studies have found either no increased risk or a risk too weak to rule out residual confounding. Decreased bladder cancer risk was associated with increased duration of exposure to chloraminated drinking-water, but there is no biological basis for assuming a protective effect of chloraminated water. Although several studies found increased risks of bladder cancer associated with long-term exposure to chlorinated drinking-water and cumulative exposure to THMs, inconsistent results were reported among the studies for bladder cancer risks between smokers and non-smokers and between men and women. Estimated exposure to THMs was considered in three of these studies. In one study, no association was found between estimated cumulative exposure to THMs. In another study, a moderately strong increased relative risk was associated with increased cumulative exposure to THMs in men but not in women. The third study reported a weak increased relative risk associated with an estimated cumulative exposure of 1957-6425 ug of THMs per litre-year; weak to moderate associations were also reported for exposure to THM concentrations greater than 24, greater than 49 and greater than 74 ug/litre. No increased relative risk of bladder cancer was associated with exposure to chlorinated municipal surface water supplies, chloroform or other THM species in a cohort of women, but the follow-up period of 8 years was very short, resulting in few cases for study. Because inadequate attention has been paid to assessing exposure to water contaminants in epidemiological studies, it is not possible to properly evaluate the increased relative risks that were reported. Specific risks may be due to other DBPs, mixtures of by-products or other water contaminants, or they may be due to other factors for which chlorinated drinking-water or THMs may serve as a surrogate. Adverse pregnancy outcomes. Studies have considered exposures to chlorinated drinking-water, THMs or THM species and various adverse outcomes of pregnancy. A scientific panel recently convened by the US Environmental Protection Agency reviewed the epidemiological studies and concluded that the results of currently published studies do not provide convincing evidence that chlorinated water or THMs cause adverse pregnancy outcomes. Results of early studies are difficult to interpret because of methodological limitations or suspected bias. A recently completed but not yet published case-control study has reported moderate increased relative risks for neural tube defects in children whose mothers' residence in early pregnancy was in an area where THM levels were greater than 40 ug/litre. Replication of the results in another area is required before this association can be properly evaluated. A previously conducted study in the same geographic area reported a similar association, but the study suffered from methodological limitations. A recently reported cohort study found an increased risk of early miscarriage associated with heavy consumption of water (five or more glasses of cold tapwater per day) containing high levels ( > 75 ug/litre) of THMs. When specific THMs were considered, only heavy consumption of water containing BDCM ( > 18 ug/litre) was associated with a risk of miscarriage. As this is the first study to suggest an adverse reproductive effect associated with a brominated by-product, a scientific panel recommended that another study be conducted in a different geographic area to attempt to replicate these results and that additional efforts be made to evaluate exposures of the cohort to other water contaminants. Risk characterization. It should be noted that the use of chemical disinfectants in water treatment usually results in the formation of chemical by-products, some of which are potentially hazardous. However, the risks to health from these by-products at the levels at which they occur in drinking-water are extremely small in comparison with the risks associated with inadequate disinfection. Thus, it is important that disinfection not be compromised in attempting to control such by-products. Characterization of hazard and dose-response. Toxicological studies. Chlorine. A WHO Working Group for the 1993 Guidelines for drinking-water quality considered chlorine. This Working Group determined a tolerable daily intake (TDI) of 150 ug/kg of body weight for free chlorine based on a no-observed-adverse-effect level (NOAEL) of approximately 15 mg/kg of body weight per day in 2-year studies in rats and mice and incorporating an uncertainty factor of 100 (10 each for intra- and interspecies variation). There are no new data that indicate that this TDI should be changed. Monochloramine. A WHO Working Group for the 1993 Guidelines for drinking-water quality considered monochloramine. This Working Group determined a TDI of 94 ug/kg of body weight based on a NOAEL of approximately 9.4 mg/kg of body weight per day, the highest dose tested, in a 2-year bioassay in rats and incorporating an uncertainty factor of 100 (10 each for intra- and interspecies variation). There are no new data that indicate that this TDI should be changed. Chlorine dioxide. The chemistry of chlorine dioxide in drinking-water is complex, but the major breakdown product is chlorite. In establishing a specific TDI for chlorine dioxide, data on both chlorine dioxide and chlorite can be considered, given the rapid hydrolysis to chlorite. Therefore, an oral TDI for chlorine dioxide is 30 ug/kg of body weight, based on the NOAEL of 2.9 mg/kg of body weight per day for neurodevelopmental effects of chlorite in rats. Trihalomethanes. Cancer following chronic exposure is the primary hazard of concern for this class of DBPs. Because of the weight of evidence indicating that chloroform can induce cancer in animals only after chronic exposure to cytotoxic doses, it is clear that exposures to low concentrations of chloroform in drinking-water do not pose carcinogenic risks. The NOAEL for cytolethality andregenerative hyperplasia in mice was 10 mg/kg of body weight per day after administration of chloroform in corn oil for 3 weeks. Based on the mode of action evidence for chloroform carcinogenicity, a TDI of 10 ug/kg of body weight was derived using, the NOAEL for cytotoxicity in mice and applying an uncertainty factor of 1000 (10 each for inter- and intra-species variation and 10 for the short duration of the study). This approach is supported by a number of additional studies. This TDI is similar to the TDI derived in the 1998 WHO Guidelines for drinking-water quality, which was based on a 1979 study in which dogs were exposed for 7.5 years. Among the brominated THMs, BDCM is of particular interest because it produces tumours in rats and mice and at several sites (liver, kidneys, large intestine) after corn oil gavage. The induction of colon tumours in rats by BDCM (and by bromoform) is also interesting because of the epidemiological associations with colo-rectal cancer. BDCM and the other brominated THMs are also weak mutagens. It is generally assumed that mutagenic carcinogens will produce linear dose-response relationships at low doses, as mutagenesis is generally considered to be an irreversible and cumulative effect. In a 2-year bioassay, BDCM given by corn oil gavage induced tumours (in conjunction with cytotoxicity and increased proliferation) in the kidneys of mice and rats at doses of 50 and 100 mg/kg of body weight per day, respectively. The tumours in the large intestine of the rat occurred after exposure to both 50 and 100 mg/kg of body weight per day. Using the incidence of kidney tumours in male mice from this study, quantitative risk estimates have been calculated, yielding a slope factor of 4.8 x 10-3 [mg/kg of body weight per day]-1 and a calculated dose of 2.1 ug/kg of body weight per day for a risk level of 10-5. A slope factor of 4.2 x 10-3 [mg/kg of body weight per day]-3 (2.4 ug/kg of body weight per day for a 10-5 risk) was derived based on the incidence of large intestine carcinomas in the male rat. The International Agency for Research on Cancer (IARC) has classified BDCM in Group 2B (possibly carcinogenic to humans). DBCM and bromoform were studied in long-term bioassays. In a 2-year corn oil gavage study, DBCM induced hepatic tumours in female mice, but not in rats, at a dose of 100 mg/kg of body weight per day. In previous evaluations, it had been suggested that the corn oil vehicle may play a role in the induction of tumours in female mice. A small increase in tumours of the large intestine in rats was observed in the bromoform study at a dose of 200 mg/kg of body weight per day. The slope factors based on these tumours are 6.5 X 10-3 [mg/kg of body weight per day]-1 for DBCM, or 1.5 ug/kg of body weight per day for a 10-5 risk, and 1.3 x 10-3 [mg/kg of body weight per day]-1 or 7.7 ug/kg of body weight per day for a 10-5 risk for bromoform. These two brominated THMs are weakly mutagenic in a number of assays, and they were by far the most mutagenic DBPs of the class in the GST-mediated assay system. Because they are the most lipophilic THMs, additional concerns about whether corn oil may have affected their bioavailability in the long-term studies should be considered. A NOAEL for DBCM of 30 mg/kg of body weight per day has been established based on the absence of histopathological effects in the liver of rats after 13 weeks of exposure by corn oil gavage. IARC has classified DBCM in Group 3 (not classifiable as to its carcinogenicity to humans). A TDI for DBCM of 30 ug/kg of body weight was derived based on the NOAEL for liver toxicity of 30 mg/kg of body weight per day and an uncertainty factor of 1000 (10 each for inter- and intraspecies variation and 10 for the short duration of the study and possible carcinogenicity). Similarly, a NOAEL for bromoform of 25 mg/kg of body weight per day can be derived on the basis of the absence of liver lesions in rats after 13 weeks of dosing by corn oil gavage. A TDI for bromoform of 25 ug/kg of body weight was derived based on this NOAEL for liver toxicity and an uncertainty factor of 1000 (10 each for interand intraspecies variation and 10 for the short duration of the study and possible carcinogenicity). IARC has classified bromoform in Group 3 (not classifiable as to its carcinogenicity to humans). Haloacetic acids. The induction of mutations by DCA is very improbable at the low doses that would be encountered in chlorinated drinking-water. The available data indicate that DCA differentially affects the replication rates of normal hepatocytes and hepatocytes that have been initiated. The dose-response relationships are complex, with DCA initially stimulating division of normal hepatocytes. However, at the lower chronic doses used in animal studies (but still very high relative to those that would be derived from drinking-water), the replication rate of normal hepatocytes is eventually sharply inhibited. This indicates that normal hepatocytes eventually down-regulate those pathways that are sensitive to stimulation by DCA. However, the effects in altered cells, particularly those that express high amounts of a protein that is immunoreactive to a c-Jun antibody, do not seem to be able to down-regulate this response. Thus, the rates of replication in the pre-neoplastic lesions with this phenotype are very high at the doses that cause DCA tumours to develop with a very low latency. Preliminary data would suggest that this continued alteration in cell birth and death rates is also necessary for the tumours to progress to malignancy. This interpretation is supported by studies that employ initiation/promotion designs as well. On the basis of the above considerations, it is suggested that the currently available cancer risk estimates for DCA be modified by incorporation of newly developing information on its comparative metabolism and modes of action to formulate a biologically based dose-response model. These data are not available at this time, but they should become available within the next 2-3 years. The effects of DCA appear to be closely associated with doses that induce hepatomegaly and glycogen accumulation in mice. The lowest-observed-adverse-effect level (LOAEL) for these effects in an 8-week study in mice was 0.5 g/litre, corresponding to approximately 100 mg/kg of body weight per day, and the NOAEL was 0.2 g/litre, or approximately 40 mg/kg of body weight per day. A TDI of 40 ug/kg of body weight has been calculated by applying an uncertainty factor of 1000 to this NOAEL (10 each for inter- and intraspecies variation and 10 for the short duration of the study and possible carcinogenicity). IARC has classified DCA in Group 3 (not classifiable as to its carcinogenicity to humans). TCA is one of the weakest activators of the peroxisome proliferator activated receptor (PPAR) known. It appears to be only marginally active as a peroxisome proliferator, even in rats. Furthermore, treatment of rats with high levels of TCA in drinking-water does not induce liver tumours. These data strongly suggest that TCA presents little carcinogenic hazard to humans at the low concentrations found in drinking-water. From a broader toxicological perspective, the developmental effects of TCA are the end-point of concern. Animals appear to tolerate concentrations of TCA in drinking-water of 0.5 g/litre (approximately 50 mg/kg of body weight per day) with little or no signs of adverse effect. At 2 g/litre, the only sign of adverse effect appears to be hepatomegaly. Hepatomegaly is not observed in mice at doses of 0.35 g of TCA per litre in drinking-water, estimated to be equivalent to 40 mg/kg of body weight per day. In another study, soft tissue anomalies were observed at approximately 3 times the control rate at the lowest dose administered, 330 mg/kg of body weight per day. At this dose, the anomalies were mild and would clearly be in the range where hepatomegaly (and carcinogenic effects) would occur. Considering the fact that the PPAR interacts with cell signalling mechanisms that can affect normal developmental processes, a common mechanism underlying hepatomegaly and the carcinogenic effects and developmental effects of this compound should be, considered. The TDI for TCA is based on a NOAEL estimated to be 40 mg/kg of body weight per day for hepatic toxicity in a long-term study in mice. Application of an uncertainty factor of 1000 (10 each for interand intraspecies variation and 10 for possible carcinogenicity) to the estimated NOAEL gives a TDI of 40 ug/kg of body weight. IARC has classified TCA in Group 3 (not classifiable as to its carcinogenicity to humans). Data on the carcinogenicity of brominated acetic acids are too preliminary to be useful in risk characterization. Data available in abstract form suggest, however, that the doses required to induce hepatocarcinogenic responses in mice are not dissimilar to those of the chlorinated acetic acids. In addition to the mechanisms involved in the induction of cancer by DCA and TCA, it is possible that increased oxidative stress secondary to their metabolism might contribute to their effects. There are a significant number of data on the effects of dibromo-acetic acid (DBA) on male reproduction. No effects were observed in rats at doses of 2 mg/kg of body weight per day for 79 days, whereas an increased retention of step 19 spermatids was observed at 10 mg/kg of body weight per day. Higher doses led to progressively more severe effects, including marked atrophy of the seminiferous tubules with 250 mg/kg of body weight per day, which was not reversed 6 months after treatment was suspended. A TDI of 20 ug/kg of body weight was determined by allocating an uncertainty factor of 100 (10 each for inter- and intraspecies variation) to the NOAEL of 2 mg/kg of body weight per day. Chloral hydrate. Chloral hydrate at 1 g/litre of drinking-water (166 mg/kg of body weight per day) induced liver tumours in mice exposed for 104 weeks. Lower doses have not been evaluated. Chloral hydrate has been shown to induce chromosomal anomalies in several in vitro tests but has been largely negative when evaluated in vivo. It is probable that the liver tumours induced by chloral hydrate involve its metabolism to TCA and/or DCA. As discussed above, these compounds are considered to act as tumour promoters. IARC has classified chloral hydrate in Group 3 (not classifiable as to its carcinogenicity to humans). Chloral hydrate administered to rats for 90 days in drinking-water induced hepatocellular necrosis at concentrations of 1200 mg/litre and above, with no effect being observed at 600 mg/litre (approximately 60 mg/kg of body weight per day). Hepatomegaly was observed in mice at doses of 144 mg/kg of body weight per day administered by gavage for 14 days. No effect was observed at 14.4 mg/kg of body weight per day in the 14-day study, but mild hepatomegaly was observed when chloral hydrate was administered in drinking-water at 70 mg/litre (16 mg/kg of body weight per day) in a 90-day follow-up study. The application of an uncertainty factor of 1000 (10 each for inter- and intraspecies variation and 10 for the use of a LOAEL instead of a NOAEL) to this value gives a TDI of 16 ug/kg of body weight. Haloacetonitriles. Without appropriate human data or an animal study that involves a substantial portion of an experimental animal's lifetime, there is no generally accepted basis for estimating carcinogenic risk from the HANs. Data developed in subchronic studies provide some indication of NOAELs for the general toxicity of dichloroacetonitrile (DCAN) and dibromoacetonitrile (DBAN). NOAELs of 8 and 23 mg/kg of body weight per day were identified in 90-day studies in rats for DCAN and DBAN, respectively, based on decreased body weights at the next higher doses of 33 and 45 mg/kg of body weight per day, respectively. A WHO Working Group for the 1993 Guidelines for drinking-water quality considered DCAN and DBAN. This Working Group determined a TDI of 15 ug/kg of body weight for DCAN based on a NOAEL of 15 mg/kg of body weight per day in a reproductive toxicity study in rats and incorporating an uncertainty factor of 1000 (10 each for intra- and interspecies variation and 10 for the severity of effects). Reproductive and developmental effects were observed with DBAN only at doses that exceeded those established for general toxicity (about 45 mg/kg of body weight per day). A TDI of 23 ug/kg of body weight was calculated for DBAN based on the NOAEL of 23 mg/kg of body weight per day in the 90-day study in rats and incorporating an uncertainty factor of 1000 (10 each for intra- and interspecies variation and 10 for the short duration of the study). There are no new data indicating that these TDIs should be changed. LOAELs for trichloroacetonitrile (TCAN) of 7.5 mg/kg of body weight per day for embryotoxicity and 15 mg/kg of body weight per day for developmental effects were identified. However, later studies suggest that these responses were dependent upon the vehicle used. No TDI can be established for TCAN. There are no data useful for risk characterization purposes for other members of the HANs. MX. The mutagen MX has recently been studied in a long-term study in rats in which some carcinogenic responses were observed. These data indicate that MX induces thyroid and bile duct tumours. An increased incidence of thyroid tumours was seen at the lowest dose of MX administered (0.4 mg/kg of body weight per day). The induction of thyroid tumours with high-dose chemicals has long been associated with halogenated compounds. The induction of thyroid follicular tumours could involve modifications in thyroid function or a mutagenic mode of action. A dose-related increase in the incidence of cholangiomas and cholangiocarcinomas was also observed, beginning at the low dose in female rats, with a more modest response in male rats. The increase in cholangiomas and cholangiocarcinomas in female rats was utilized to derive a slope factor for cancer. The 95% upper confidence limit for a 10-5 lifetime risk based on the linearized multistage model was calculated to be 0.06 ug/kg of body weight per day. Chlorite. The primary and most consistent finding arising from exposure to chlorite is oxidative stress resulting in changes in the red blood cells. This end-point is seen in laboratory animals and, by analogy with chlorate, in humans exposed to high doses in poisoning incidents. There are sufficient data available with which to estimate a TDI for humans exposed to chlorite, including chronic toxicity studies and a two-generation reproductive toxicity study. Studies in human volunteers for up to 12 weeks did not identify any effect on blood parameters at the highest dose tested, 36 ug/kg of body weight per day. Because these studies do not identify an effect level, they are not informative for establishing a margin of safety. In a two-generation study in rats, a NOAEL of 2.9 mg/kg of body weight per day was identified based on lower auditory startle amplitude, decreased absolute brain weight in the F1 and F2 generations, and altered liver weights in two generations. Application of an uncertainty factor of 100 (10 each for inter- and intraspecies variation) to this NOAEL gives a TDI of 30 ug/kg of body weight. This TDI is supported by the human volunteer studies. Chlorate. Like chlorite, the primary concern with chlorate is oxidative damage to red blood cells. Also like chlorite, 0.036 mg of chlorate per kg of body weight per day for 12 weeks did not result in any adverse effect in human volunteers. Although the database for chlorate is less extensive than that for chlorite, a recent well conducted 90-day study in rats identified a NOAEL of 30 mg/kg of body weight per day based on thyroid gland colloid depletion at the next higher dose of 100 mg/kg of body weight per day. A TDI is not derived because a long-term study is in progress, which should provide more information on chronic exposure to chlorate. Bromate. Bromate is an active oxidant in biological systems and has been shown to cause an increase in renal tumours, peritoneal mesotheliomas and thyroid follicular cell tumours in rats and, to a lesser extent, hamsters, and only a small increase in kidney tumours in mice. The lowest dose at which an increased incidence of renal tumours was observed in rats was 6 mg/kg of body weight per day. Bromate has also been shown to give positive results for chromosomal aberrations in mammalian cells in vitro and in vivo but not in bacterial assays for point mutation. An increasing body of evidence, supported by the genotoxicity data, suggests that bromate acts by generating oxygen radicals in the cell. In the 1993 WHO Guidelines for drinking-water quality, the linearized multistage model was applied to the incidence of renal tumours in a 2-year carcinogenicity study in rats, although it was noted that if the mechanism of tumour induction is oxidative damage in the kidney, application of the low-dose cancer model may not be appropriate. The calculated upper 95% confidence interval for a 10-5 risk was 0.1 ug/kg of body weight per day. The no-effect level for the formation of renal cell tumours in rats is 1.3 mg/kg of body weight per day. If this is used as a point of departure from linearity and if an uncertainty factor of 1000 (10 each for inter- and intraspecies variation and 10 for possible carcinogenicity) is applied, a TDI of 1 ug/kg of body weight can be calculated. This compares with the value of 0.1 ug/kg of body weight per day associated with an excess lifetime cancer risk of 10-5. At present, there are insufficient data to permit a decision on whether bromate-induced tumours are a result of cytotoxicity and reparative hyperplasia or a genotoxic effect. IARC has assigned potassium bromate to Group 2B (possibly carcinogenic to huma\n"
     ]
    }
   ],
   "source": [
    "# Calculate the length of each abstract\n",
    "CHS['abstract_length'] = CHS['abstract'].apply(lambda x: len(x) if type(x) is not float else 0)\n",
    "\n",
    "# Find the index of the longest abstract\n",
    "longest_abstract_index = CHS['abstract_length'].idxmax()\n",
    "\n",
    "# Retrieve the longest abstract\n",
    "longest_abstract = CHS.loc[longest_abstract_index, 'abstract']\n",
    "\n",
    "print(\"The longest abstract is:\", longest_abstract)"
   ]
  },
  {
   "cell_type": "code",
   "execution_count": 15,
   "metadata": {},
   "outputs": [
    {
     "data": {
      "text/plain": [
       "3331"
      ]
     },
     "execution_count": 15,
     "metadata": {},
     "output_type": "execute_result"
    }
   ],
   "source": [
    "CHE[CHE.abstract_length>1500].shape[0]"
   ]
  },
  {
   "cell_type": "code",
   "execution_count": 16,
   "metadata": {},
   "outputs": [
    {
     "data": {
      "text/plain": [
       "3465"
      ]
     },
     "execution_count": 16,
     "metadata": {},
     "output_type": "execute_result"
    }
   ],
   "source": [
    "CHS[CHS.abstract_length>1500].shape[0]"
   ]
  },
  {
   "cell_type": "code",
   "execution_count": 21,
   "metadata": {},
   "outputs": [],
   "source": [
    "#To use as input for the model we just need the abstract and the label\n",
    "\n",
    "input = CHE[['abstract','Label']]"
   ]
  },
  {
   "cell_type": "code",
   "execution_count": null,
   "metadata": {},
   "outputs": [],
   "source": []
  }
 ],
 "metadata": {
  "kernelspec": {
   "display_name": "chlorine",
   "language": "python",
   "name": "python3"
  },
  "language_info": {
   "codemirror_mode": {
    "name": "ipython",
    "version": 3
   },
   "file_extension": ".py",
   "mimetype": "text/x-python",
   "name": "python",
   "nbconvert_exporter": "python",
   "pygments_lexer": "ipython3",
   "version": "3.12.3"
  }
 },
 "nbformat": 4,
 "nbformat_minor": 2
}
